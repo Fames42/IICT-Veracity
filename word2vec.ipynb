{
 "cells": [
  {
   "cell_type": "code",
   "execution_count": 1,
   "metadata": {},
   "outputs": [],
   "source": [
    "import gensim\n",
    "import pandas as pd"
   ]
  },
  {
   "cell_type": "code",
   "execution_count": 2,
   "metadata": {},
   "outputs": [],
   "source": [
    "corpus_cleaned = pd.read_csv(\"corpus_lemtokenized.csv\", header=None)"
   ]
  },
  {
   "cell_type": "code",
   "execution_count": 3,
   "metadata": {},
   "outputs": [],
   "source": [
    "import re\n",
    "\n",
    "def tokenize(text):\n",
    "    tokens = re.split('\\s+', text)\n",
    "    tokens_decoded_lowered = []\n",
    "    for word in tokens:\n",
    "        tokens_decoded_lowered.append(word.decode(\"utf-8\"))\n",
    "    return tokens_decoded_lowered"
   ]
  },
  {
   "cell_type": "code",
   "execution_count": 4,
   "metadata": {},
   "outputs": [],
   "source": [
    "doc_series = corpus_cleaned[1].apply(tokenize)"
   ]
  },
  {
   "cell_type": "code",
   "execution_count": 5,
   "metadata": {},
   "outputs": [
    {
     "data": {
      "text/plain": [
       "0    [премьерминистр, россия, владимир, путин, дать...\n",
       "1    [казахстанский, горнорудный, корпорация, enrc,...\n",
       "2    [костанай, частный, предприниматель, привлечь,...\n",
       "3    [мажилиса, одобрить, закон, фонд, национальный...\n",
       "4    [генеральный, директор, холдинг, нурмедиа, арм...\n",
       "Name: 1, dtype: object"
      ]
     },
     "execution_count": 5,
     "metadata": {},
     "output_type": "execute_result"
    }
   ],
   "source": [
    "doc_series.head()"
   ]
  },
  {
   "cell_type": "code",
   "execution_count": 6,
   "metadata": {},
   "outputs": [
    {
     "data": {
      "text/plain": [
       "(66744627, 69887100)"
      ]
     },
     "execution_count": 6,
     "metadata": {},
     "output_type": "execute_result"
    }
   ],
   "source": [
    "documents = doc_series.values.tolist()\n",
    "\n",
    "model = gensim.models.Word2Vec(\n",
    "    documents,\n",
    "    size=200,\n",
    "    window=10,\n",
    "    min_count=5,\n",
    "    workers=10)\n",
    "model.train(documents, total_examples=len(documents), epochs=10)"
   ]
  },
  {
   "cell_type": "code",
   "execution_count": 7,
   "metadata": {},
   "outputs": [],
   "source": [
    "from nltk.cluster import KMeansClusterer\n",
    "import nltk"
   ]
  },
  {
   "cell_type": "code",
   "execution_count": 8,
   "metadata": {},
   "outputs": [
    {
     "name": "stderr",
     "output_type": "stream",
     "text": [
      "/home/dauken/anaconda2/lib/python2.7/site-packages/ipykernel_launcher.py:1: DeprecationWarning: Call to deprecated `__getitem__` (Method will be removed in 4.0.0, use self.wv.__getitem__() instead).\n",
      "  \"\"\"Entry point for launching an IPython kernel.\n"
     ]
    }
   ],
   "source": [
    "X = model[model.wv.vocab]"
   ]
  },
  {
   "cell_type": "code",
   "execution_count": 9,
   "metadata": {},
   "outputs": [],
   "source": [
    "vocab_dict = dict(zip(list(model.wv.vocab), X.tolist()))"
   ]
  },
  {
   "cell_type": "code",
   "execution_count": 10,
   "metadata": {},
   "outputs": [],
   "source": [
    "from sklearn.cluster import KMeans\n",
    "from sklearn.decomposition import PCA"
   ]
  },
  {
   "cell_type": "code",
   "execution_count": 11,
   "metadata": {},
   "outputs": [],
   "source": [
    "from sklearn.metrics.pairwise import cosine_similarity\n",
    "from scipy.spatial.distance import cosine"
   ]
  },
  {
   "cell_type": "code",
   "execution_count": 12,
   "metadata": {},
   "outputs": [],
   "source": [
    "import numpy as np"
   ]
  },
  {
   "cell_type": "code",
   "execution_count": 13,
   "metadata": {},
   "outputs": [],
   "source": [
    "f = open(\"output_facts_v4.csv\")\n",
    "facts = f.readlines()\n",
    "f.close()"
   ]
  },
  {
   "cell_type": "code",
   "execution_count": 14,
   "metadata": {},
   "outputs": [],
   "source": [
    "facts = list(facts)"
   ]
  },
  {
   "cell_type": "code",
   "execution_count": 15,
   "metadata": {},
   "outputs": [],
   "source": [
    "facts = [line.decode(\"utf-8\") for line in facts]\n",
    "facts_series = pd.Series(facts)"
   ]
  },
  {
   "cell_type": "code",
   "execution_count": 16,
   "metadata": {},
   "outputs": [
    {
     "data": {
      "text/plain": [
       "0    \"согласиться, маттиас\",\"сообщать, &s\",\"войти, ...\n",
       "1    \"найти, житель\",\"произойти, инцидент\",\"упасть,...\n",
       "2    \"подвергнуться, сайт\",\"украсть, дать\",\"достигн...\n",
       "3    \"обвиняться, &s\",\"сообщать, риа\",\"арестовать, ...\n",
       "4    \"надеяться, наставник\",\"задержаться, полузащит...\n",
       "dtype: object"
      ]
     },
     "execution_count": 16,
     "metadata": {},
     "output_type": "execute_result"
    }
   ],
   "source": [
    "facts_series.head()"
   ]
  },
  {
   "cell_type": "code",
   "execution_count": 17,
   "metadata": {},
   "outputs": [],
   "source": [
    "facts_series = facts_series.apply(lambda x: re.findall('\"([^\"]*)\"', x))"
   ]
  },
  {
   "cell_type": "code",
   "execution_count": 18,
   "metadata": {},
   "outputs": [],
   "source": [
    "facts_df = facts_series.apply(lambda x: [re.findall(ur'(?u)\\w+', item) for item in x]).to_frame('facts_list')"
   ]
  },
  {
   "cell_type": "code",
   "execution_count": 19,
   "metadata": {},
   "outputs": [],
   "source": [
    "facts_df['root'] = facts_df.facts_list.apply(lambda x: [item[0] for item in x if (len(item) == 2) and ('s' not in item)])"
   ]
  },
  {
   "cell_type": "code",
   "execution_count": 20,
   "metadata": {},
   "outputs": [],
   "source": [
    "facts_df['obj'] = facts_df.facts_list.apply(lambda x: [item[1] for item in x if (len(item) == 2) and ('s' not in item)])"
   ]
  },
  {
   "cell_type": "code",
   "execution_count": 21,
   "metadata": {},
   "outputs": [
    {
     "data": {
      "text/html": [
       "<div>\n",
       "<style scoped>\n",
       "    .dataframe tbody tr th:only-of-type {\n",
       "        vertical-align: middle;\n",
       "    }\n",
       "\n",
       "    .dataframe tbody tr th {\n",
       "        vertical-align: top;\n",
       "    }\n",
       "\n",
       "    .dataframe thead th {\n",
       "        text-align: right;\n",
       "    }\n",
       "</style>\n",
       "<table border=\"1\" class=\"dataframe\">\n",
       "  <thead>\n",
       "    <tr style=\"text-align: right;\">\n",
       "      <th></th>\n",
       "      <th>facts_list</th>\n",
       "      <th>root</th>\n",
       "      <th>obj</th>\n",
       "    </tr>\n",
       "  </thead>\n",
       "  <tbody>\n",
       "    <tr>\n",
       "      <th>0</th>\n",
       "      <td>[[согласиться, маттиас], [сообщать, s], [войти...</td>\n",
       "      <td>[согласиться, появиться, претендовать, мочь, к...</td>\n",
       "      <td>[маттиас, список, варнига, он, представитель, ...</td>\n",
       "    </tr>\n",
       "    <tr>\n",
       "      <th>1</th>\n",
       "      <td>[[найти, житель], [произойти, инцидент], [упас...</td>\n",
       "      <td>[найти, произойти, упасть, побояться, упасть, ...</td>\n",
       "      <td>[житель, инцидент, шар, мы, они, материал, он,...</td>\n",
       "    </tr>\n",
       "    <tr>\n",
       "      <th>2</th>\n",
       "      <td>[[подвергнуться, сайт], [украсть, дать], [дост...</td>\n",
       "      <td>[подвергнуться, украсть, достигнуть, посоветов...</td>\n",
       "      <td>[сайт, дать, число, руководство, это, информация]</td>\n",
       "    </tr>\n",
       "    <tr>\n",
       "      <th>3</th>\n",
       "      <td>[[обвиняться, s], [сообщать, риа], [арестовать...</td>\n",
       "      <td>[сообщать, находиться, идти, получить, подозре...</td>\n",
       "      <td>[риа, архимандрит, расследование, полиция, обв...</td>\n",
       "    </tr>\n",
       "    <tr>\n",
       "      <th>4</th>\n",
       "      <td>[[надеяться, наставник], [задержаться, полузащ...</td>\n",
       "      <td>[надеяться, задержаться, возможно, знать, хоте...</td>\n",
       "      <td>[наставник, полузащитник, весь, бекхэма, мы, о...</td>\n",
       "    </tr>\n",
       "  </tbody>\n",
       "</table>\n",
       "</div>"
      ],
      "text/plain": [
       "                                          facts_list  \\\n",
       "0  [[согласиться, маттиас], [сообщать, s], [войти...   \n",
       "1  [[найти, житель], [произойти, инцидент], [упас...   \n",
       "2  [[подвергнуться, сайт], [украсть, дать], [дост...   \n",
       "3  [[обвиняться, s], [сообщать, риа], [арестовать...   \n",
       "4  [[надеяться, наставник], [задержаться, полузащ...   \n",
       "\n",
       "                                                root  \\\n",
       "0  [согласиться, появиться, претендовать, мочь, к...   \n",
       "1  [найти, произойти, упасть, побояться, упасть, ...   \n",
       "2  [подвергнуться, украсть, достигнуть, посоветов...   \n",
       "3  [сообщать, находиться, идти, получить, подозре...   \n",
       "4  [надеяться, задержаться, возможно, знать, хоте...   \n",
       "\n",
       "                                                 obj  \n",
       "0  [маттиас, список, варнига, он, представитель, ...  \n",
       "1  [житель, инцидент, шар, мы, они, материал, он,...  \n",
       "2  [сайт, дать, число, руководство, это, информация]  \n",
       "3  [риа, архимандрит, расследование, полиция, обв...  \n",
       "4  [наставник, полузащитник, весь, бекхэма, мы, о...  "
      ]
     },
     "execution_count": 21,
     "metadata": {},
     "output_type": "execute_result"
    }
   ],
   "source": [
    "facts_df.head()"
   ]
  },
  {
   "cell_type": "code",
   "execution_count": 130,
   "metadata": {},
   "outputs": [
    {
     "name": "stdout",
     "output_type": "stream",
     "text": [
      "уровень\n",
      "показатель\n",
      "это\n",
      "спам\n",
      "сеть\n",
      "источник\n",
      "ботсеть\n",
      "лидерство\n"
     ]
    }
   ],
   "source": [
    "for word in facts_df.loc[1134, 'obj']:\n",
    "    print word"
   ]
  },
  {
   "cell_type": "code",
   "execution_count": 164,
   "metadata": {},
   "outputs": [],
   "source": [
    "def get_similar_texts(input_txt_objs, all_txts):\n",
    "    bool_obj = all_txts.obj.apply(lambda x: len([item for item in input_txt_objs if item in x]) > 0)\n",
    "    return all_txts[bool_obj]"
   ]
  },
  {
   "cell_type": "code",
   "execution_count": 215,
   "metadata": {},
   "outputs": [],
   "source": [
    "similar = get_similar_texts([\"аблязов\".decode(\"utf-8\"), \"джакишев\".decode(\"utf-8\")], facts_df)"
   ]
  },
  {
   "cell_type": "code",
   "execution_count": 216,
   "metadata": {},
   "outputs": [
    {
     "data": {
      "text/plain": [
       "108"
      ]
     },
     "execution_count": 216,
     "metadata": {},
     "output_type": "execute_result"
    }
   ],
   "source": [
    "len(similar)"
   ]
  },
  {
   "cell_type": "code",
   "execution_count": 217,
   "metadata": {},
   "outputs": [],
   "source": [
    "def get_all_facts(texts):\n",
    "    vocab_root = []\n",
    "    vocab_obj = []\n",
    "    vocab_root = [item for lst in texts.root for item in lst]\n",
    "    vocab_obj = [item for lst in texts.obj for item in lst]\n",
    "    vocab_facts = pd.DataFrame({\n",
    "        'root': vocab_root,\n",
    "        'obj': vocab_obj\n",
    "    },\n",
    "        columns = ['root', 'obj']\n",
    "    )\n",
    "    vocab_facts['root_vector'] = vocab_facts['root'].apply(lambda x: vocab_dict[x] if x in vocab_dict else None)\n",
    "    vocab_facts['obj_vector'] = vocab_facts['obj'].apply(lambda x: vocab_dict[x] if x in vocab_dict else None) \n",
    "    return vocab_facts"
   ]
  },
  {
   "cell_type": "code",
   "execution_count": 238,
   "metadata": {},
   "outputs": [],
   "source": [
    "vocab_facts = get_all_facts(facts_df)"
   ]
  },
  {
   "cell_type": "code",
   "execution_count": 239,
   "metadata": {},
   "outputs": [
    {
     "data": {
      "text/plain": [
       "483960"
      ]
     },
     "execution_count": 239,
     "metadata": {},
     "output_type": "execute_result"
    }
   ],
   "source": [
    "len(vocab_facts)"
   ]
  },
  {
   "cell_type": "code",
   "execution_count": 240,
   "metadata": {},
   "outputs": [],
   "source": [
    "from sklearn.metrics.pairwise import cosine_similarity\n",
    "from scipy.spatial.distance import cosine\n",
    "\n",
    "def mean(a):\n",
    "    return sum(a) / len(a)\n",
    "\n",
    "def sort_by_clustering(vocab, t, clstr_numb, init_numb):\n",
    "    t\n",
    "    t_vector = t + \"_vector\"\n",
    "    sorted_vocab = vocab_facts[[t, t_vector]]\n",
    "    sorted_vocab = sorted_vocab.drop_duplicates(subset = t)\n",
    "    sorted_vocab = sorted_vocab[sorted_vocab[t_vector].notnull()]\n",
    "    sorted_vocab = sorted_vocab.reset_index(drop=True)\n",
    "    X_t = sorted_vocab[t_vector].tolist()\n",
    "    kmeans = KMeans(n_clusters=clstr_numb, n_init=init_numb)  \n",
    "    kmeans.fit(X_t)\n",
    "    assigned_clusters = kmeans.labels_\n",
    "    sorted_vocab['cluster_numb'] = pd.Series(assigned_clusters)\n",
    "    centers = kmeans.cluster_centers_\n",
    "    sorted_vocab[\"cluster_center\"] = sorted_vocab.cluster_numb.apply(lambda x: centers[x])\n",
    "    sorted_vocab['cosine_word2centroid'] = sorted_vocab.apply(lambda x: 1 - cosine(x[t_vector], x[\"cluster_center\"]), axis=1)\n",
    "    center_of_centroids = map(mean, zip(*centers))\n",
    "    sorted_vocab['cosine_center2centroid'] = sorted_vocab.apply(lambda x: 1 - cosine(x[\"cluster_center\"], center_of_centroids), axis=1)\n",
    "    sorted_vocab = sorted_vocab.sort_values(by = ['cosine_center2centroid','cosine_word2centroid'], ascending=False)\n",
    "    sorted_vocab = sorted_vocab.reset_index(drop=True)\n",
    "    return sorted_vocab"
   ]
  },
  {
   "cell_type": "code",
   "execution_count": 241,
   "metadata": {},
   "outputs": [],
   "source": [
    "from sklearn.cluster import DBSCAN\n",
    "\n",
    "def mean(a):\n",
    "    return sum(a) / len(a)\n",
    "\n",
    "def sort_by_clustering_db(vocab, t):\n",
    "    t\n",
    "    t_vector = t + \"_vector\"\n",
    "    sorted_vocab = vocab_facts[[t, t_vector]]\n",
    "    sorted_vocab = sorted_vocab.drop_duplicates(subset = t)\n",
    "    sorted_vocab = sorted_vocab[sorted_vocab[t_vector].notnull()]\n",
    "    sorted_vocab = sorted_vocab.reset_index(drop=True)\n",
    "    X_t = sorted_vocab[t_vector].tolist()\n",
    "    dbscan = DBSCAN(eps=11, min_samples=4, metric='euclidean', n_jobs = 2).fit(X_t)  \n",
    "    assigned_clusters = dbscan.labels_\n",
    "    sorted_vocab['cluster_numb'] = pd.Series(assigned_clusters)\n",
    "    return sorted_vocab"
   ]
  },
  {
   "cell_type": "code",
   "execution_count": 37,
   "metadata": {},
   "outputs": [],
   "source": [
    "DBSCAN?"
   ]
  },
  {
   "cell_type": "code",
   "execution_count": 242,
   "metadata": {},
   "outputs": [],
   "source": [
    "sorted_vocab_root = sort_by_clustering(vocab_facts, \"root\", 70, 50)\n",
    "sorted_vocab_obj = sort_by_clustering(vocab_facts, \"obj\", 70, 100)"
   ]
  },
  {
   "cell_type": "code",
   "execution_count": 222,
   "metadata": {},
   "outputs": [],
   "source": [
    "sorted_vocab_root['root_order'] = sorted_vocab_root.index.values\n",
    "sorted_vocab_obj['obj_order'] = sorted_vocab_obj.index.values"
   ]
  },
  {
   "cell_type": "code",
   "execution_count": 223,
   "metadata": {},
   "outputs": [
    {
     "data": {
      "text/html": [
       "<div>\n",
       "<style scoped>\n",
       "    .dataframe tbody tr th:only-of-type {\n",
       "        vertical-align: middle;\n",
       "    }\n",
       "\n",
       "    .dataframe tbody tr th {\n",
       "        vertical-align: top;\n",
       "    }\n",
       "\n",
       "    .dataframe thead th {\n",
       "        text-align: right;\n",
       "    }\n",
       "</style>\n",
       "<table border=\"1\" class=\"dataframe\">\n",
       "  <thead>\n",
       "    <tr style=\"text-align: right;\">\n",
       "      <th></th>\n",
       "      <th>obj</th>\n",
       "      <th>obj_vector</th>\n",
       "      <th>cluster_numb</th>\n",
       "      <th>cluster_center</th>\n",
       "      <th>cosine_word2centroid</th>\n",
       "      <th>cosine_center2centroid</th>\n",
       "      <th>obj_order</th>\n",
       "    </tr>\n",
       "  </thead>\n",
       "  <tbody>\n",
       "    <tr>\n",
       "      <th>0</th>\n",
       "      <td>правительство</td>\n",
       "      <td>[-1.55585753918, 4.34938383102, 0.557132422924...</td>\n",
       "      <td>41</td>\n",
       "      <td>[0.21177388895668237, -0.8443638223278173, 0.6...</td>\n",
       "      <td>0.545269</td>\n",
       "      <td>0.731485</td>\n",
       "      <td>0</td>\n",
       "    </tr>\n",
       "    <tr>\n",
       "      <th>1</th>\n",
       "      <td>аблязов</td>\n",
       "      <td>[0.039946321398, -3.45129704475, -0.8238002061...</td>\n",
       "      <td>41</td>\n",
       "      <td>[0.21177388895668237, -0.8443638223278173, 0.6...</td>\n",
       "      <td>0.530310</td>\n",
       "      <td>0.731485</td>\n",
       "      <td>1</td>\n",
       "    </tr>\n",
       "    <tr>\n",
       "      <th>2</th>\n",
       "      <td>власть</td>\n",
       "      <td>[0.50090867281, 1.11254942417, 1.27459204197, ...</td>\n",
       "      <td>41</td>\n",
       "      <td>[0.21177388895668237, -0.8443638223278173, 0.6...</td>\n",
       "      <td>0.499778</td>\n",
       "      <td>0.731485</td>\n",
       "      <td>2</td>\n",
       "    </tr>\n",
       "    <tr>\n",
       "      <th>3</th>\n",
       "      <td>приватизация</td>\n",
       "      <td>[-0.563440382481, -0.943519353867, 1.584248185...</td>\n",
       "      <td>41</td>\n",
       "      <td>[0.21177388895668237, -0.8443638223278173, 0.6...</td>\n",
       "      <td>0.496313</td>\n",
       "      <td>0.731485</td>\n",
       "      <td>3</td>\n",
       "    </tr>\n",
       "    <tr>\n",
       "      <th>4</th>\n",
       "      <td>банкир</td>\n",
       "      <td>[1.19995963573, -1.80574405193, -0.22686281800...</td>\n",
       "      <td>41</td>\n",
       "      <td>[0.21177388895668237, -0.8443638223278173, 0.6...</td>\n",
       "      <td>0.473698</td>\n",
       "      <td>0.731485</td>\n",
       "      <td>4</td>\n",
       "    </tr>\n",
       "  </tbody>\n",
       "</table>\n",
       "</div>"
      ],
      "text/plain": [
       "             obj                                         obj_vector  \\\n",
       "0  правительство  [-1.55585753918, 4.34938383102, 0.557132422924...   \n",
       "1        аблязов  [0.039946321398, -3.45129704475, -0.8238002061...   \n",
       "2         власть  [0.50090867281, 1.11254942417, 1.27459204197, ...   \n",
       "3   приватизация  [-0.563440382481, -0.943519353867, 1.584248185...   \n",
       "4         банкир  [1.19995963573, -1.80574405193, -0.22686281800...   \n",
       "\n",
       "   cluster_numb                                     cluster_center  \\\n",
       "0            41  [0.21177388895668237, -0.8443638223278173, 0.6...   \n",
       "1            41  [0.21177388895668237, -0.8443638223278173, 0.6...   \n",
       "2            41  [0.21177388895668237, -0.8443638223278173, 0.6...   \n",
       "3            41  [0.21177388895668237, -0.8443638223278173, 0.6...   \n",
       "4            41  [0.21177388895668237, -0.8443638223278173, 0.6...   \n",
       "\n",
       "   cosine_word2centroid  cosine_center2centroid  obj_order  \n",
       "0              0.545269                0.731485          0  \n",
       "1              0.530310                0.731485          1  \n",
       "2              0.499778                0.731485          2  \n",
       "3              0.496313                0.731485          3  \n",
       "4              0.473698                0.731485          4  "
      ]
     },
     "execution_count": 223,
     "metadata": {},
     "output_type": "execute_result"
    }
   ],
   "source": [
    "sorted_vocab_obj.head()"
   ]
  },
  {
   "cell_type": "code",
   "execution_count": 224,
   "metadata": {},
   "outputs": [],
   "source": [
    "vocab_facts_labeled = pd.merge(vocab_facts, sorted_vocab_root[['root', 'root_order']], how='inner', on=['root'])"
   ]
  },
  {
   "cell_type": "code",
   "execution_count": 225,
   "metadata": {},
   "outputs": [],
   "source": [
    "vocab_facts_labeled = pd.merge(vocab_facts_labeled, sorted_vocab_obj[['obj', 'obj_order']], how='inner', on=['obj'])"
   ]
  },
  {
   "cell_type": "code",
   "execution_count": 226,
   "metadata": {},
   "outputs": [
    {
     "data": {
      "text/plain": [
       "1467"
      ]
     },
     "execution_count": 226,
     "metadata": {},
     "output_type": "execute_result"
    }
   ],
   "source": [
    "len(vocab_facts_labeled)"
   ]
  },
  {
   "cell_type": "code",
   "execution_count": 227,
   "metadata": {},
   "outputs": [],
   "source": [
    "def assign_clusters(vocab, clstr_numb, init_numb):  \n",
    "    vocab['fact_vector'] = vocab.apply(lambda x: [x.root_order, x.obj_order], axis=1)\n",
    "    X_t = vocab[\"fact_vector\"].tolist()\n",
    "    kmeans = KMeans(n_clusters=clstr_numb, n_init=init_numb)  \n",
    "    kmeans.fit(X_t)\n",
    "    assigned_clusters = kmeans.labels_\n",
    "    vocab['fact_cluster_numb'] = pd.Series(assigned_clusters)\n",
    "    return vocab"
   ]
  },
  {
   "cell_type": "code",
   "execution_count": 234,
   "metadata": {},
   "outputs": [],
   "source": [
    "facts_clustered = assign_clusters(vocab_facts_labeled, 70, 50)"
   ]
  },
  {
   "cell_type": "code",
   "execution_count": 243,
   "metadata": {},
   "outputs": [
    {
     "data": {
      "text/html": [
       "<div>\n",
       "<style scoped>\n",
       "    .dataframe tbody tr th:only-of-type {\n",
       "        vertical-align: middle;\n",
       "    }\n",
       "\n",
       "    .dataframe tbody tr th {\n",
       "        vertical-align: top;\n",
       "    }\n",
       "\n",
       "    .dataframe thead th {\n",
       "        text-align: right;\n",
       "    }\n",
       "</style>\n",
       "<table border=\"1\" class=\"dataframe\">\n",
       "  <thead>\n",
       "    <tr style=\"text-align: right;\">\n",
       "      <th></th>\n",
       "      <th>root</th>\n",
       "      <th>obj</th>\n",
       "      <th>root_vector</th>\n",
       "      <th>obj_vector</th>\n",
       "      <th>root_order</th>\n",
       "      <th>obj_order</th>\n",
       "      <th>fact_vector</th>\n",
       "      <th>fact_cluster_numb</th>\n",
       "    </tr>\n",
       "  </thead>\n",
       "  <tbody>\n",
       "    <tr>\n",
       "      <th>229</th>\n",
       "      <td>сообщить</td>\n",
       "      <td>аблязов</td>\n",
       "      <td>[-0.936387240887, 3.59801197052, -0.9020364880...</td>\n",
       "      <td>[0.039946321398, -3.45129704475, -0.8238002061...</td>\n",
       "      <td>369</td>\n",
       "      <td>1</td>\n",
       "      <td>[369, 1]</td>\n",
       "      <td>20</td>\n",
       "    </tr>\n",
       "    <tr>\n",
       "      <th>238</th>\n",
       "      <td>задержать</td>\n",
       "      <td>аблязов</td>\n",
       "      <td>[1.24610197544, 0.0451795049012, 0.48554080724...</td>\n",
       "      <td>[0.039946321398, -3.45129704475, -0.8238002061...</td>\n",
       "      <td>358</td>\n",
       "      <td>1</td>\n",
       "      <td>[358, 1]</td>\n",
       "      <td>20</td>\n",
       "    </tr>\n",
       "    <tr>\n",
       "      <th>239</th>\n",
       "      <td>задержать</td>\n",
       "      <td>аблязов</td>\n",
       "      <td>[1.24610197544, 0.0451795049012, 0.48554080724...</td>\n",
       "      <td>[0.039946321398, -3.45129704475, -0.8238002061...</td>\n",
       "      <td>358</td>\n",
       "      <td>1</td>\n",
       "      <td>[358, 1]</td>\n",
       "      <td>20</td>\n",
       "    </tr>\n",
       "    <tr>\n",
       "      <th>240</th>\n",
       "      <td>задержать</td>\n",
       "      <td>аблязов</td>\n",
       "      <td>[1.24610197544, 0.0451795049012, 0.48554080724...</td>\n",
       "      <td>[0.039946321398, -3.45129704475, -0.8238002061...</td>\n",
       "      <td>358</td>\n",
       "      <td>1</td>\n",
       "      <td>[358, 1]</td>\n",
       "      <td>20</td>\n",
       "    </tr>\n",
       "    <tr>\n",
       "      <th>243</th>\n",
       "      <td>арестовать</td>\n",
       "      <td>аблязов</td>\n",
       "      <td>[1.22186934948, -0.489561527967, -2.4353072643...</td>\n",
       "      <td>[0.039946321398, -3.45129704475, -0.8238002061...</td>\n",
       "      <td>355</td>\n",
       "      <td>1</td>\n",
       "      <td>[355, 1]</td>\n",
       "      <td>20</td>\n",
       "    </tr>\n",
       "    <tr>\n",
       "      <th>244</th>\n",
       "      <td>арестовать</td>\n",
       "      <td>аблязов</td>\n",
       "      <td>[1.22186934948, -0.489561527967, -2.4353072643...</td>\n",
       "      <td>[0.039946321398, -3.45129704475, -0.8238002061...</td>\n",
       "      <td>355</td>\n",
       "      <td>1</td>\n",
       "      <td>[355, 1]</td>\n",
       "      <td>20</td>\n",
       "    </tr>\n",
       "    <tr>\n",
       "      <th>245</th>\n",
       "      <td>арестовать</td>\n",
       "      <td>аблязов</td>\n",
       "      <td>[1.22186934948, -0.489561527967, -2.4353072643...</td>\n",
       "      <td>[0.039946321398, -3.45129704475, -0.8238002061...</td>\n",
       "      <td>355</td>\n",
       "      <td>1</td>\n",
       "      <td>[355, 1]</td>\n",
       "      <td>20</td>\n",
       "    </tr>\n",
       "    <tr>\n",
       "      <th>246</th>\n",
       "      <td>арестовать</td>\n",
       "      <td>аблязов</td>\n",
       "      <td>[1.22186934948, -0.489561527967, -2.4353072643...</td>\n",
       "      <td>[0.039946321398, -3.45129704475, -0.8238002061...</td>\n",
       "      <td>355</td>\n",
       "      <td>1</td>\n",
       "      <td>[355, 1]</td>\n",
       "      <td>20</td>\n",
       "    </tr>\n",
       "    <tr>\n",
       "      <th>247</th>\n",
       "      <td>арестовать</td>\n",
       "      <td>аблязов</td>\n",
       "      <td>[1.22186934948, -0.489561527967, -2.4353072643...</td>\n",
       "      <td>[0.039946321398, -3.45129704475, -0.8238002061...</td>\n",
       "      <td>355</td>\n",
       "      <td>1</td>\n",
       "      <td>[355, 1]</td>\n",
       "      <td>20</td>\n",
       "    </tr>\n",
       "    <tr>\n",
       "      <th>248</th>\n",
       "      <td>арестовать</td>\n",
       "      <td>аблязов</td>\n",
       "      <td>[1.22186934948, -0.489561527967, -2.4353072643...</td>\n",
       "      <td>[0.039946321398, -3.45129704475, -0.8238002061...</td>\n",
       "      <td>355</td>\n",
       "      <td>1</td>\n",
       "      <td>[355, 1]</td>\n",
       "      <td>20</td>\n",
       "    </tr>\n",
       "    <tr>\n",
       "      <th>249</th>\n",
       "      <td>арестовать</td>\n",
       "      <td>аблязов</td>\n",
       "      <td>[1.22186934948, -0.489561527967, -2.4353072643...</td>\n",
       "      <td>[0.039946321398, -3.45129704475, -0.8238002061...</td>\n",
       "      <td>355</td>\n",
       "      <td>1</td>\n",
       "      <td>[355, 1]</td>\n",
       "      <td>20</td>\n",
       "    </tr>\n",
       "    <tr>\n",
       "      <th>250</th>\n",
       "      <td>арестовать</td>\n",
       "      <td>аблязов</td>\n",
       "      <td>[1.22186934948, -0.489561527967, -2.4353072643...</td>\n",
       "      <td>[0.039946321398, -3.45129704475, -0.8238002061...</td>\n",
       "      <td>355</td>\n",
       "      <td>1</td>\n",
       "      <td>[355, 1]</td>\n",
       "      <td>20</td>\n",
       "    </tr>\n",
       "    <tr>\n",
       "      <th>251</th>\n",
       "      <td>арестовать</td>\n",
       "      <td>аблязов</td>\n",
       "      <td>[1.22186934948, -0.489561527967, -2.4353072643...</td>\n",
       "      <td>[0.039946321398, -3.45129704475, -0.8238002061...</td>\n",
       "      <td>355</td>\n",
       "      <td>1</td>\n",
       "      <td>[355, 1]</td>\n",
       "      <td>20</td>\n",
       "    </tr>\n",
       "    <tr>\n",
       "      <th>252</th>\n",
       "      <td>арестовать</td>\n",
       "      <td>аблязов</td>\n",
       "      <td>[1.22186934948, -0.489561527967, -2.4353072643...</td>\n",
       "      <td>[0.039946321398, -3.45129704475, -0.8238002061...</td>\n",
       "      <td>355</td>\n",
       "      <td>1</td>\n",
       "      <td>[355, 1]</td>\n",
       "      <td>20</td>\n",
       "    </tr>\n",
       "    <tr>\n",
       "      <th>253</th>\n",
       "      <td>арестовать</td>\n",
       "      <td>аблязов</td>\n",
       "      <td>[1.22186934948, -0.489561527967, -2.4353072643...</td>\n",
       "      <td>[0.039946321398, -3.45129704475, -0.8238002061...</td>\n",
       "      <td>355</td>\n",
       "      <td>1</td>\n",
       "      <td>[355, 1]</td>\n",
       "      <td>20</td>\n",
       "    </tr>\n",
       "    <tr>\n",
       "      <th>254</th>\n",
       "      <td>арестовать</td>\n",
       "      <td>аблязов</td>\n",
       "      <td>[1.22186934948, -0.489561527967, -2.4353072643...</td>\n",
       "      <td>[0.039946321398, -3.45129704475, -0.8238002061...</td>\n",
       "      <td>355</td>\n",
       "      <td>1</td>\n",
       "      <td>[355, 1]</td>\n",
       "      <td>20</td>\n",
       "    </tr>\n",
       "    <tr>\n",
       "      <th>273</th>\n",
       "      <td>обвинять</td>\n",
       "      <td>аблязов</td>\n",
       "      <td>[0.60124117136, -0.96579927206, 1.04580450058,...</td>\n",
       "      <td>[0.039946321398, -3.45129704475, -0.8238002061...</td>\n",
       "      <td>354</td>\n",
       "      <td>1</td>\n",
       "      <td>[354, 1]</td>\n",
       "      <td>20</td>\n",
       "    </tr>\n",
       "    <tr>\n",
       "      <th>275</th>\n",
       "      <td>обвинить</td>\n",
       "      <td>аблязов</td>\n",
       "      <td>[2.0546734333, 2.814650774, -1.9178262949, 0.3...</td>\n",
       "      <td>[0.039946321398, -3.45129704475, -0.8238002061...</td>\n",
       "      <td>356</td>\n",
       "      <td>1</td>\n",
       "      <td>[356, 1]</td>\n",
       "      <td>20</td>\n",
       "    </tr>\n",
       "    <tr>\n",
       "      <th>276</th>\n",
       "      <td>обвинить</td>\n",
       "      <td>аблязов</td>\n",
       "      <td>[2.0546734333, 2.814650774, -1.9178262949, 0.3...</td>\n",
       "      <td>[0.039946321398, -3.45129704475, -0.8238002061...</td>\n",
       "      <td>356</td>\n",
       "      <td>1</td>\n",
       "      <td>[356, 1]</td>\n",
       "      <td>20</td>\n",
       "    </tr>\n",
       "    <tr>\n",
       "      <th>277</th>\n",
       "      <td>обвинить</td>\n",
       "      <td>аблязов</td>\n",
       "      <td>[2.0546734333, 2.814650774, -1.9178262949, 0.3...</td>\n",
       "      <td>[0.039946321398, -3.45129704475, -0.8238002061...</td>\n",
       "      <td>356</td>\n",
       "      <td>1</td>\n",
       "      <td>[356, 1]</td>\n",
       "      <td>20</td>\n",
       "    </tr>\n",
       "    <tr>\n",
       "      <th>279</th>\n",
       "      <td>утверждать</td>\n",
       "      <td>аблязов</td>\n",
       "      <td>[-1.37667965889, -0.743529736996, -2.694486856...</td>\n",
       "      <td>[0.039946321398, -3.45129704475, -0.8238002061...</td>\n",
       "      <td>372</td>\n",
       "      <td>1</td>\n",
       "      <td>[372, 1]</td>\n",
       "      <td>20</td>\n",
       "    </tr>\n",
       "    <tr>\n",
       "      <th>280</th>\n",
       "      <td>заявлять</td>\n",
       "      <td>аблязов</td>\n",
       "      <td>[-1.46262860298, 0.877551019192, 0.55220729112...</td>\n",
       "      <td>[0.039946321398, -3.45129704475, -0.8238002061...</td>\n",
       "      <td>379</td>\n",
       "      <td>1</td>\n",
       "      <td>[379, 1]</td>\n",
       "      <td>20</td>\n",
       "    </tr>\n",
       "    <tr>\n",
       "      <th>287</th>\n",
       "      <td>уехать</td>\n",
       "      <td>аблязов</td>\n",
       "      <td>[0.505086421967, 0.055532053113, -0.4266046285...</td>\n",
       "      <td>[0.039946321398, -3.45129704475, -0.8238002061...</td>\n",
       "      <td>338</td>\n",
       "      <td>1</td>\n",
       "      <td>[338, 1]</td>\n",
       "      <td>20</td>\n",
       "    </tr>\n",
       "    <tr>\n",
       "      <th>296</th>\n",
       "      <td>рассказать</td>\n",
       "      <td>аблязов</td>\n",
       "      <td>[0.187318861485, 0.589274823666, -0.9236704111...</td>\n",
       "      <td>[0.039946321398, -3.45129704475, -0.8238002061...</td>\n",
       "      <td>370</td>\n",
       "      <td>1</td>\n",
       "      <td>[370, 1]</td>\n",
       "      <td>20</td>\n",
       "    </tr>\n",
       "    <tr>\n",
       "      <th>304</th>\n",
       "      <td>проживать</td>\n",
       "      <td>аблязов</td>\n",
       "      <td>[2.73396658897, -1.69802165031, 0.450548112392...</td>\n",
       "      <td>[0.039946321398, -3.45129704475, -0.8238002061...</td>\n",
       "      <td>350</td>\n",
       "      <td>1</td>\n",
       "      <td>[350, 1]</td>\n",
       "      <td>20</td>\n",
       "    </tr>\n",
       "    <tr>\n",
       "      <th>305</th>\n",
       "      <td>проживать</td>\n",
       "      <td>аблязов</td>\n",
       "      <td>[2.73396658897, -1.69802165031, 0.450548112392...</td>\n",
       "      <td>[0.039946321398, -3.45129704475, -0.8238002061...</td>\n",
       "      <td>350</td>\n",
       "      <td>1</td>\n",
       "      <td>[350, 1]</td>\n",
       "      <td>20</td>\n",
       "    </tr>\n",
       "    <tr>\n",
       "      <th>306</th>\n",
       "      <td>проживать</td>\n",
       "      <td>аблязов</td>\n",
       "      <td>[2.73396658897, -1.69802165031, 0.450548112392...</td>\n",
       "      <td>[0.039946321398, -3.45129704475, -0.8238002061...</td>\n",
       "      <td>350</td>\n",
       "      <td>1</td>\n",
       "      <td>[350, 1]</td>\n",
       "      <td>20</td>\n",
       "    </tr>\n",
       "    <tr>\n",
       "      <th>318</th>\n",
       "      <td>скрываться</td>\n",
       "      <td>аблязов</td>\n",
       "      <td>[-1.48990535736, -2.03458714485, -0.2822542190...</td>\n",
       "      <td>[0.039946321398, -3.45129704475, -0.8238002061...</td>\n",
       "      <td>347</td>\n",
       "      <td>1</td>\n",
       "      <td>[347, 1]</td>\n",
       "      <td>20</td>\n",
       "    </tr>\n",
       "    <tr>\n",
       "      <th>325</th>\n",
       "      <td>покинуть</td>\n",
       "      <td>аблязов</td>\n",
       "      <td>[-2.95909976959, 0.0844003781676, -3.065697908...</td>\n",
       "      <td>[0.039946321398, -3.45129704475, -0.8238002061...</td>\n",
       "      <td>339</td>\n",
       "      <td>1</td>\n",
       "      <td>[339, 1]</td>\n",
       "      <td>20</td>\n",
       "    </tr>\n",
       "    <tr>\n",
       "      <th>554</th>\n",
       "      <td>подчёркивать</td>\n",
       "      <td>банкир</td>\n",
       "      <td>[-0.303347408772, -2.21465086937, -0.843675315...</td>\n",
       "      <td>[1.19995963573, -1.80574405193, -0.22686281800...</td>\n",
       "      <td>378</td>\n",
       "      <td>4</td>\n",
       "      <td>[378, 4]</td>\n",
       "      <td>20</td>\n",
       "    </tr>\n",
       "    <tr>\n",
       "      <th>556</th>\n",
       "      <td>прибыть</td>\n",
       "      <td>банкир</td>\n",
       "      <td>[-1.00975561142, 1.049472332, -0.872363805771,...</td>\n",
       "      <td>[1.19995963573, -1.80574405193, -0.22686281800...</td>\n",
       "      <td>349</td>\n",
       "      <td>4</td>\n",
       "      <td>[349, 4]</td>\n",
       "      <td>20</td>\n",
       "    </tr>\n",
       "    <tr>\n",
       "      <th>557</th>\n",
       "      <td>прибыть</td>\n",
       "      <td>банкир</td>\n",
       "      <td>[-1.00975561142, 1.049472332, -0.872363805771,...</td>\n",
       "      <td>[1.19995963573, -1.80574405193, -0.22686281800...</td>\n",
       "      <td>349</td>\n",
       "      <td>4</td>\n",
       "      <td>[349, 4]</td>\n",
       "      <td>20</td>\n",
       "    </tr>\n",
       "    <tr>\n",
       "      <th>559</th>\n",
       "      <td>считать</td>\n",
       "      <td>бизнесмен</td>\n",
       "      <td>[-1.27219879627, -1.34966409206, -1.2856634855...</td>\n",
       "      <td>[1.20970904827, -0.837314128876, 1.24140930176...</td>\n",
       "      <td>371</td>\n",
       "      <td>20</td>\n",
       "      <td>[371, 20]</td>\n",
       "      <td>20</td>\n",
       "    </tr>\n",
       "    <tr>\n",
       "      <th>560</th>\n",
       "      <td>сбежать</td>\n",
       "      <td>бизнесмен</td>\n",
       "      <td>[-1.75405812263, -0.0742592215538, 1.041337728...</td>\n",
       "      <td>[1.20970904827, -0.837314128876, 1.24140930176...</td>\n",
       "      <td>341</td>\n",
       "      <td>20</td>\n",
       "      <td>[341, 20]</td>\n",
       "      <td>20</td>\n",
       "    </tr>\n",
       "    <tr>\n",
       "      <th>575</th>\n",
       "      <td>утверждать</td>\n",
       "      <td>власть</td>\n",
       "      <td>[-1.37667965889, -0.743529736996, -2.694486856...</td>\n",
       "      <td>[0.50090867281, 1.11254942417, 1.27459204197, ...</td>\n",
       "      <td>372</td>\n",
       "      <td>2</td>\n",
       "      <td>[372, 2]</td>\n",
       "      <td>20</td>\n",
       "    </tr>\n",
       "    <tr>\n",
       "      <th>579</th>\n",
       "      <td>осудить</td>\n",
       "      <td>власть</td>\n",
       "      <td>[2.18852066994, 0.754225492477, 0.314774245024...</td>\n",
       "      <td>[0.50090867281, 1.11254942417, 1.27459204197, ...</td>\n",
       "      <td>357</td>\n",
       "      <td>2</td>\n",
       "      <td>[357, 2]</td>\n",
       "      <td>20</td>\n",
       "    </tr>\n",
       "    <tr>\n",
       "      <th>1095</th>\n",
       "      <td>считать</td>\n",
       "      <td>чиновник</td>\n",
       "      <td>[-1.27219879627, -1.34966409206, -1.2856634855...</td>\n",
       "      <td>[1.29481446743, -3.16062617302, 0.955678403378...</td>\n",
       "      <td>371</td>\n",
       "      <td>5</td>\n",
       "      <td>[371, 5]</td>\n",
       "      <td>20</td>\n",
       "    </tr>\n",
       "    <tr>\n",
       "      <th>1097</th>\n",
       "      <td>считать</td>\n",
       "      <td>руководство</td>\n",
       "      <td>[-1.27219879627, -1.34966409206, -1.2856634855...</td>\n",
       "      <td>[-0.912440538406, -0.422934621572, -0.30833095...</td>\n",
       "      <td>371</td>\n",
       "      <td>18</td>\n",
       "      <td>[371, 18]</td>\n",
       "      <td>20</td>\n",
       "    </tr>\n",
       "  </tbody>\n",
       "</table>\n",
       "</div>"
      ],
      "text/plain": [
       "              root          obj  \\\n",
       "229       сообщить      аблязов   \n",
       "238      задержать      аблязов   \n",
       "239      задержать      аблязов   \n",
       "240      задержать      аблязов   \n",
       "243     арестовать      аблязов   \n",
       "244     арестовать      аблязов   \n",
       "245     арестовать      аблязов   \n",
       "246     арестовать      аблязов   \n",
       "247     арестовать      аблязов   \n",
       "248     арестовать      аблязов   \n",
       "249     арестовать      аблязов   \n",
       "250     арестовать      аблязов   \n",
       "251     арестовать      аблязов   \n",
       "252     арестовать      аблязов   \n",
       "253     арестовать      аблязов   \n",
       "254     арестовать      аблязов   \n",
       "273       обвинять      аблязов   \n",
       "275       обвинить      аблязов   \n",
       "276       обвинить      аблязов   \n",
       "277       обвинить      аблязов   \n",
       "279     утверждать      аблязов   \n",
       "280       заявлять      аблязов   \n",
       "287         уехать      аблязов   \n",
       "296     рассказать      аблязов   \n",
       "304      проживать      аблязов   \n",
       "305      проживать      аблязов   \n",
       "306      проживать      аблязов   \n",
       "318     скрываться      аблязов   \n",
       "325       покинуть      аблязов   \n",
       "554   подчёркивать       банкир   \n",
       "556        прибыть       банкир   \n",
       "557        прибыть       банкир   \n",
       "559        считать    бизнесмен   \n",
       "560        сбежать    бизнесмен   \n",
       "575     утверждать       власть   \n",
       "579        осудить       власть   \n",
       "1095       считать     чиновник   \n",
       "1097       считать  руководство   \n",
       "\n",
       "                                            root_vector  \\\n",
       "229   [-0.936387240887, 3.59801197052, -0.9020364880...   \n",
       "238   [1.24610197544, 0.0451795049012, 0.48554080724...   \n",
       "239   [1.24610197544, 0.0451795049012, 0.48554080724...   \n",
       "240   [1.24610197544, 0.0451795049012, 0.48554080724...   \n",
       "243   [1.22186934948, -0.489561527967, -2.4353072643...   \n",
       "244   [1.22186934948, -0.489561527967, -2.4353072643...   \n",
       "245   [1.22186934948, -0.489561527967, -2.4353072643...   \n",
       "246   [1.22186934948, -0.489561527967, -2.4353072643...   \n",
       "247   [1.22186934948, -0.489561527967, -2.4353072643...   \n",
       "248   [1.22186934948, -0.489561527967, -2.4353072643...   \n",
       "249   [1.22186934948, -0.489561527967, -2.4353072643...   \n",
       "250   [1.22186934948, -0.489561527967, -2.4353072643...   \n",
       "251   [1.22186934948, -0.489561527967, -2.4353072643...   \n",
       "252   [1.22186934948, -0.489561527967, -2.4353072643...   \n",
       "253   [1.22186934948, -0.489561527967, -2.4353072643...   \n",
       "254   [1.22186934948, -0.489561527967, -2.4353072643...   \n",
       "273   [0.60124117136, -0.96579927206, 1.04580450058,...   \n",
       "275   [2.0546734333, 2.814650774, -1.9178262949, 0.3...   \n",
       "276   [2.0546734333, 2.814650774, -1.9178262949, 0.3...   \n",
       "277   [2.0546734333, 2.814650774, -1.9178262949, 0.3...   \n",
       "279   [-1.37667965889, -0.743529736996, -2.694486856...   \n",
       "280   [-1.46262860298, 0.877551019192, 0.55220729112...   \n",
       "287   [0.505086421967, 0.055532053113, -0.4266046285...   \n",
       "296   [0.187318861485, 0.589274823666, -0.9236704111...   \n",
       "304   [2.73396658897, -1.69802165031, 0.450548112392...   \n",
       "305   [2.73396658897, -1.69802165031, 0.450548112392...   \n",
       "306   [2.73396658897, -1.69802165031, 0.450548112392...   \n",
       "318   [-1.48990535736, -2.03458714485, -0.2822542190...   \n",
       "325   [-2.95909976959, 0.0844003781676, -3.065697908...   \n",
       "554   [-0.303347408772, -2.21465086937, -0.843675315...   \n",
       "556   [-1.00975561142, 1.049472332, -0.872363805771,...   \n",
       "557   [-1.00975561142, 1.049472332, -0.872363805771,...   \n",
       "559   [-1.27219879627, -1.34966409206, -1.2856634855...   \n",
       "560   [-1.75405812263, -0.0742592215538, 1.041337728...   \n",
       "575   [-1.37667965889, -0.743529736996, -2.694486856...   \n",
       "579   [2.18852066994, 0.754225492477, 0.314774245024...   \n",
       "1095  [-1.27219879627, -1.34966409206, -1.2856634855...   \n",
       "1097  [-1.27219879627, -1.34966409206, -1.2856634855...   \n",
       "\n",
       "                                             obj_vector  root_order  \\\n",
       "229   [0.039946321398, -3.45129704475, -0.8238002061...         369   \n",
       "238   [0.039946321398, -3.45129704475, -0.8238002061...         358   \n",
       "239   [0.039946321398, -3.45129704475, -0.8238002061...         358   \n",
       "240   [0.039946321398, -3.45129704475, -0.8238002061...         358   \n",
       "243   [0.039946321398, -3.45129704475, -0.8238002061...         355   \n",
       "244   [0.039946321398, -3.45129704475, -0.8238002061...         355   \n",
       "245   [0.039946321398, -3.45129704475, -0.8238002061...         355   \n",
       "246   [0.039946321398, -3.45129704475, -0.8238002061...         355   \n",
       "247   [0.039946321398, -3.45129704475, -0.8238002061...         355   \n",
       "248   [0.039946321398, -3.45129704475, -0.8238002061...         355   \n",
       "249   [0.039946321398, -3.45129704475, -0.8238002061...         355   \n",
       "250   [0.039946321398, -3.45129704475, -0.8238002061...         355   \n",
       "251   [0.039946321398, -3.45129704475, -0.8238002061...         355   \n",
       "252   [0.039946321398, -3.45129704475, -0.8238002061...         355   \n",
       "253   [0.039946321398, -3.45129704475, -0.8238002061...         355   \n",
       "254   [0.039946321398, -3.45129704475, -0.8238002061...         355   \n",
       "273   [0.039946321398, -3.45129704475, -0.8238002061...         354   \n",
       "275   [0.039946321398, -3.45129704475, -0.8238002061...         356   \n",
       "276   [0.039946321398, -3.45129704475, -0.8238002061...         356   \n",
       "277   [0.039946321398, -3.45129704475, -0.8238002061...         356   \n",
       "279   [0.039946321398, -3.45129704475, -0.8238002061...         372   \n",
       "280   [0.039946321398, -3.45129704475, -0.8238002061...         379   \n",
       "287   [0.039946321398, -3.45129704475, -0.8238002061...         338   \n",
       "296   [0.039946321398, -3.45129704475, -0.8238002061...         370   \n",
       "304   [0.039946321398, -3.45129704475, -0.8238002061...         350   \n",
       "305   [0.039946321398, -3.45129704475, -0.8238002061...         350   \n",
       "306   [0.039946321398, -3.45129704475, -0.8238002061...         350   \n",
       "318   [0.039946321398, -3.45129704475, -0.8238002061...         347   \n",
       "325   [0.039946321398, -3.45129704475, -0.8238002061...         339   \n",
       "554   [1.19995963573, -1.80574405193, -0.22686281800...         378   \n",
       "556   [1.19995963573, -1.80574405193, -0.22686281800...         349   \n",
       "557   [1.19995963573, -1.80574405193, -0.22686281800...         349   \n",
       "559   [1.20970904827, -0.837314128876, 1.24140930176...         371   \n",
       "560   [1.20970904827, -0.837314128876, 1.24140930176...         341   \n",
       "575   [0.50090867281, 1.11254942417, 1.27459204197, ...         372   \n",
       "579   [0.50090867281, 1.11254942417, 1.27459204197, ...         357   \n",
       "1095  [1.29481446743, -3.16062617302, 0.955678403378...         371   \n",
       "1097  [-0.912440538406, -0.422934621572, -0.30833095...         371   \n",
       "\n",
       "      obj_order fact_vector  fact_cluster_numb  \n",
       "229           1    [369, 1]                 20  \n",
       "238           1    [358, 1]                 20  \n",
       "239           1    [358, 1]                 20  \n",
       "240           1    [358, 1]                 20  \n",
       "243           1    [355, 1]                 20  \n",
       "244           1    [355, 1]                 20  \n",
       "245           1    [355, 1]                 20  \n",
       "246           1    [355, 1]                 20  \n",
       "247           1    [355, 1]                 20  \n",
       "248           1    [355, 1]                 20  \n",
       "249           1    [355, 1]                 20  \n",
       "250           1    [355, 1]                 20  \n",
       "251           1    [355, 1]                 20  \n",
       "252           1    [355, 1]                 20  \n",
       "253           1    [355, 1]                 20  \n",
       "254           1    [355, 1]                 20  \n",
       "273           1    [354, 1]                 20  \n",
       "275           1    [356, 1]                 20  \n",
       "276           1    [356, 1]                 20  \n",
       "277           1    [356, 1]                 20  \n",
       "279           1    [372, 1]                 20  \n",
       "280           1    [379, 1]                 20  \n",
       "287           1    [338, 1]                 20  \n",
       "296           1    [370, 1]                 20  \n",
       "304           1    [350, 1]                 20  \n",
       "305           1    [350, 1]                 20  \n",
       "306           1    [350, 1]                 20  \n",
       "318           1    [347, 1]                 20  \n",
       "325           1    [339, 1]                 20  \n",
       "554           4    [378, 4]                 20  \n",
       "556           4    [349, 4]                 20  \n",
       "557           4    [349, 4]                 20  \n",
       "559          20   [371, 20]                 20  \n",
       "560          20   [341, 20]                 20  \n",
       "575           2    [372, 2]                 20  \n",
       "579           2    [357, 2]                 20  \n",
       "1095          5    [371, 5]                 20  \n",
       "1097         18   [371, 18]                 20  "
      ]
     },
     "execution_count": 243,
     "metadata": {},
     "output_type": "execute_result"
    }
   ],
   "source": [
    "facts_clustered[facts_clustered.fact_cluster_numb == 20]"
   ]
  },
  {
   "cell_type": "code",
   "execution_count": 237,
   "metadata": {},
   "outputs": [
    {
     "data": {
      "text/plain": [
       "<matplotlib.colorbar.Colorbar at 0x7f4d9f0a5090>"
      ]
     },
     "execution_count": 237,
     "metadata": {},
     "output_type": "execute_result"
    },
    {
     "data": {
      "image/png": "[encoded data removed]",
      "text/plain": [
       "<Figure size 432x288 with 2 Axes>"
      ]
     },
     "metadata": {},
     "output_type": "display_data"
    }
   ],
   "source": [
    "import matplotlib.pyplot as plt\n",
    "fig = plt.figure()\n",
    "ax = fig.add_subplot(111)\n",
    "scatter = ax.scatter(vocab_facts_labeled.root_order, vocab_facts_labeled.obj_order, c=vocab_facts_labeled.fact_cluster_numb,s=0.1)\n",
    "ax.set_title('K-Means Clustering')\n",
    "ax.set_xlabel('Root')\n",
    "ax.set_ylabel('Object')\n",
    "plt.colorbar(scatter)"
   ]
  },
  {
   "cell_type": "code",
   "execution_count": 125,
   "metadata": {},
   "outputs": [
    {
     "data": {
      "image/png": "[encoded data removed]",
      "text/plain": [
       "<Figure size 432x288 with 1 Axes>"
      ]
     },
     "metadata": {},
     "output_type": "display_data"
    }
   ],
   "source": [
    "import matplotlib.pyplot as plt\n",
    "plt.scatter(vocab_facts_labeled.root_order, vocab_facts_labeled.obj_order, s=0.01)\n",
    "plt.show()"
   ]
  },
  {
   "cell_type": "code",
   "execution_count": null,
   "metadata": {},
   "outputs": [],
   "source": []
  }
 ],
 "metadata": {
  "kernelspec": {
   "display_name": "Python 2",
   "language": "python",
   "name": "python2"
  },
  "language_info": {
   "codemirror_mode": {
    "name": "ipython",
    "version": 2
   },
   "file_extension": ".py",
   "mimetype": "text/x-python",
   "name": "python",
   "nbconvert_exporter": "python",
   "pygments_lexer": "ipython2",
   "version": "2.7.15"
  }
 },
 "nbformat": 4,
 "nbformat_minor": 2
}
